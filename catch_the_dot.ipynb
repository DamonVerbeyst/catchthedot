{
 "cells": [
  {
   "cell_type": "markdown",
   "id": "e7552080",
   "metadata": {},
   "source": [
    "## installing libraries"
   ]
  },
  {
   "cell_type": "code",
   "execution_count": 1,
   "id": "dabf229a",
   "metadata": {},
   "outputs": [],
   "source": [
    "!pip install mediapipe -q"
   ]
  },
  {
   "cell_type": "code",
   "execution_count": 2,
   "id": "2242b906",
   "metadata": {},
   "outputs": [],
   "source": [
    "!pip install opencv-python -q"
   ]
  },
  {
   "cell_type": "markdown",
   "id": "8bcd1b2b",
   "metadata": {},
   "source": [
    "## importing libraries"
   ]
  },
  {
   "cell_type": "code",
   "execution_count": 3,
   "id": "65a92065",
   "metadata": {},
   "outputs": [],
   "source": [
    "import numpy as np\n",
    "import os\n",
    "import mediapipe as mp\n",
    "import cv2"
   ]
  },
  {
   "cell_type": "markdown",
   "id": "cd061300",
   "metadata": {},
   "source": [
    "## auxiliary functions"
   ]
  },
  {
   "cell_type": "code",
   "execution_count": null,
   "id": "46c41fa1",
   "metadata": {},
   "outputs": [],
   "source": []
  },
  {
   "cell_type": "markdown",
   "id": "23bc5711",
   "metadata": {},
   "source": [
    "## main script"
   ]
  },
  {
   "cell_type": "code",
   "execution_count": 4,
   "id": "0fe84ec7",
   "metadata": {},
   "outputs": [],
   "source": [
    "#Object to interact with the webcam of your computer\n",
    "webcam = cv2.VideoCapture(0)\n",
    "\n",
    "while webcam.isOpened():\n",
    "    \n",
    "    #Read in frames while the webcam is open\n",
    "    ret, frame = webcam.read()\n",
    "    \n",
    "    #flip the frame horizontally\n",
    "    frame = cv2.flip(frame, 1)\n",
    "    \n",
    "    #Display the frame on the screen\n",
    "    cv2.imshow('Catch The Dot!', frame)\n",
    "    \n",
    "    #Interrupt the webcam stream when users press the 'q' key (quit)          \n",
    "    key = cv2.waitKey(10)\n",
    "    if key == ord('q'):\n",
    "        break\n",
    "\n",
    "webcam.release()\n",
    "cv2.destroyAllWindows()"
   ]
  },
  {
   "cell_type": "code",
   "execution_count": null,
   "id": "f79f5f8d",
   "metadata": {},
   "outputs": [],
   "source": []
  }
 ],
 "metadata": {
  "kernelspec": {
   "display_name": "Python 3 (ipykernel)",
   "language": "python",
   "name": "python3"
  },
  "language_info": {
   "codemirror_mode": {
    "name": "ipython",
    "version": 3
   },
   "file_extension": ".py",
   "mimetype": "text/x-python",
   "name": "python",
   "nbconvert_exporter": "python",
   "pygments_lexer": "ipython3",
   "version": "3.9.16"
  }
 },
 "nbformat": 4,
 "nbformat_minor": 5
}
