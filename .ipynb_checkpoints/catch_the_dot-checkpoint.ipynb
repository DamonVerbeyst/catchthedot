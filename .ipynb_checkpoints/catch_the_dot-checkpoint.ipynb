{
 "cells": [
  {
   "cell_type": "markdown",
   "id": "6cfc9753",
   "metadata": {},
   "source": [
    "## installing libraries"
   ]
  },
  {
   "cell_type": "code",
   "execution_count": null,
   "id": "92ac758b",
   "metadata": {},
   "outputs": [],
   "source": [
    "!pip install mediapipe -q"
   ]
  },
  {
   "cell_type": "code",
   "execution_count": null,
   "id": "9e8895c5",
   "metadata": {},
   "outputs": [],
   "source": [
    "!pip install opencv-python -q"
   ]
  },
  {
   "cell_type": "markdown",
   "id": "1b8085c7",
   "metadata": {},
   "source": [
    "## importing libraries"
   ]
  },
  {
   "cell_type": "code",
   "execution_count": null,
   "id": "de90f497",
   "metadata": {},
   "outputs": [],
   "source": [
    "import mediapipe as mp\n",
    "import cv2\n",
    "import random\n",
    "from math import sqrt"
   ]
  },
  {
   "cell_type": "markdown",
   "id": "334424c5",
   "metadata": {},
   "source": [
    "## auxiliary functions"
   ]
  },
  {
   "cell_type": "code",
   "execution_count": null,
   "id": "5a8bb820",
   "metadata": {},
   "outputs": [],
   "source": [
    "# This function randomly generates a center coordinate for a new dot.\n",
    "# The function makes sure that the circle can always be fully displayed on the screen.\n",
    "def get_dot_center(width, height, radius=30):\n",
    "    c_x = random.randrange(radius, width-radius)\n",
    "    c_y = random.randrange(radius, height-radius)\n",
    "    return (c_x, c_y)\n",
    "\n",
    "# This function returns true when the euclidean distance between the tip of the index finger \n",
    "# and the center of the dot is smaller than the radius of the dot.\n",
    "def dot_touched(tip_x, tip_y, c_x, c_y, radius):\n",
    "    distance = sqrt((c_x-tip_x)*(c_x-tip_x)+(c_y-tip_y)*(c_y-tip_y))\n",
    "    return distance < radius"
   ]
  },
  {
   "cell_type": "markdown",
   "id": "929ab68b",
   "metadata": {},
   "source": [
    "## main script"
   ]
  },
  {
   "cell_type": "code",
   "execution_count": null,
   "id": "f9e243a8",
   "metadata": {},
   "outputs": [],
   "source": [
    "# MediaPipe solution for respectively drawing to the screen and hand landmark detection\n",
    "mp_drawing = mp.solutions.drawing_utils\n",
    "mp_hands = mp.solutions.hands"
   ]
  },
  {
   "cell_type": "code",
   "execution_count": null,
   "id": "359759de",
   "metadata": {},
   "outputs": [],
   "source": [
    "# arbitrary radius of the dot\n",
    "radius = 30\n",
    "\n",
    "# parameters for text display on the screen\n",
    "text_font = cv2.FONT_HERSHEY_SIMPLEX \n",
    "text_org = (50, 80) \n",
    "text_fontScale = 3\n",
    "text_color = (255, 0, 0)\n",
    "text_thickness = 3\n",
    "\n",
    "# score of the player\n",
    "score = 0"
   ]
  },
  {
   "cell_type": "code",
   "execution_count": null,
   "id": "57a046bc",
   "metadata": {},
   "outputs": [],
   "source": [
    "# Object to interact with the webcam of your computer\n",
    "webcam = cv2.VideoCapture(0)\n",
    "\n",
    "# Width and height of the video capture.\n",
    "# This is necessary because drawing a circle using OpenCV uses absolute pixel values, \n",
    "# while the MediaPipe detection returns a relative value between 0 and 1.\n",
    "width, height = webcam.get(cv2.CAP_PROP_FRAME_WIDTH), webcam.get(cv2.CAP_PROP_FRAME_HEIGHT)\n",
    "\n",
    "\n",
    "\n",
    "# the center coordinates of the initial dot on the screen\n",
    "center_coordinates = get_dot_center(width, height, radius)\n",
    "\n",
    "with mp_hands.Hands(min_detection_confidence=0.8, min_tracking_confidence=0.5, max_num_hands=1) as hands:\n",
    "    \n",
    "    while webcam.isOpened():\n",
    "\n",
    "        # Read in frames while the webcam is open\n",
    "        ret, frame = webcam.read()\n",
    "\n",
    "        # Flip the frame horizontally\n",
    "        frame = cv2.flip(frame, 1)\n",
    "        \n",
    "        # MediaPipe operates on the RGB color-scheme\n",
    "        frame = cv2.cvtColor(frame, cv2.COLOR_BGR2RGB)\n",
    "        \n",
    "        # Apply the MediaPipe hand detection model on the frame\n",
    "        results = hands.process(frame)\n",
    "        \n",
    "        # Convert back to the original BGR color-scheme\n",
    "        frame = cv2.cvtColor(frame, cv2.COLOR_RGB2BGR)\n",
    "               \n",
    "        # Drawing connected landmarks (joints)\n",
    "        if results.multi_hand_landmarks:\n",
    "            # Iterate over hands (only 1 in this case)\n",
    "            for num, hand in enumerate(results.multi_hand_landmarks):\n",
    "                # Draw the landmarks\n",
    "                mp_drawing.draw_landmarks(frame, hand, mp_hands.HAND_CONNECTIONS)\n",
    "                \n",
    "                # Extract the position of landmark 8: the tip of the index finger\n",
    "                tip_x, tip_y = results.multi_hand_landmarks[0].landmark[8].x, results.multi_hand_landmarks[0].landmark[8].y\n",
    "                tip_x, tip_y = tip_x * width, tip_y * height\n",
    "                \n",
    "                # Check if the player managed to catch the dot\n",
    "                if dot_touched(tip_x, tip_y, center_coordinates[0], center_coordinates[1], radius):\n",
    "                    score += 1\n",
    "                    # Generate new center coordinates for the dot\n",
    "                    center_coordinates = get_dot_center(width, height, radius)\n",
    "                \n",
    "        # Draw dot to the screen\n",
    "        # Thickness is set to a negative value in order to fill the circle\n",
    "        frame = cv2.circle(frame, center_coordinates, radius=radius, color=(255, 0, 0), thickness=-1)\n",
    "        \n",
    "        \n",
    "        score_text = 'Score: ' + str(score) + '!'\n",
    "        frame = cv2.putText(frame, score_text, text_org, text_font, text_fontScale, text_color, text_thickness, cv2.LINE_AA) \n",
    "\n",
    "        # Display the frame on the screen\n",
    "        cv2.imshow('Catch The Dot!', frame)\n",
    "\n",
    "        # Interrupt the webcam stream when users press the 'q' key (quit)          \n",
    "        key = cv2.waitKey(10)\n",
    "        if key == ord('q'):\n",
    "            break\n",
    "\n",
    "webcam.release()\n",
    "cv2.destroyAllWindows()\n",
    "\n",
    "cv2.waitKey(10)"
   ]
  },
  {
   "cell_type": "code",
   "execution_count": null,
   "id": "732bc2a9",
   "metadata": {},
   "outputs": [],
   "source": []
  }
 ],
 "metadata": {
  "kernelspec": {
   "display_name": "Python 3 (ipykernel)",
   "language": "python",
   "name": "python3"
  },
  "language_info": {
   "codemirror_mode": {
    "name": "ipython",
    "version": 3
   },
   "file_extension": ".py",
   "mimetype": "text/x-python",
   "name": "python",
   "nbconvert_exporter": "python",
   "pygments_lexer": "ipython3",
   "version": "3.9.16"
  }
 },
 "nbformat": 4,
 "nbformat_minor": 5
}
