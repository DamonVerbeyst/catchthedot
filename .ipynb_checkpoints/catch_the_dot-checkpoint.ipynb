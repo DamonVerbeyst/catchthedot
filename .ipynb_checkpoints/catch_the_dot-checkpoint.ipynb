{
 "cells": [
  {
   "cell_type": "markdown",
   "id": "f6098ac7",
   "metadata": {},
   "source": [
    "## installing libraries"
   ]
  },
  {
   "cell_type": "code",
   "execution_count": 4,
   "id": "78cc680d",
   "metadata": {},
   "outputs": [],
   "source": [
    "!pip install mediapipe -q"
   ]
  },
  {
   "cell_type": "code",
   "execution_count": 5,
   "id": "943e055a",
   "metadata": {},
   "outputs": [],
   "source": [
    "!pip install opencv-python -q"
   ]
  },
  {
   "cell_type": "markdown",
   "id": "bbb6609a",
   "metadata": {},
   "source": [
    "## importing libraries"
   ]
  },
  {
   "cell_type": "code",
   "execution_count": 6,
   "id": "217060b7",
   "metadata": {},
   "outputs": [],
   "source": [
    "import numpy as np\n",
    "import os\n",
    "import mediapipe as mp\n",
    "import cv2"
   ]
  },
  {
   "cell_type": "markdown",
   "id": "0fea3fcb",
   "metadata": {},
   "source": [
    "## auxiliary functions"
   ]
  },
  {
   "cell_type": "code",
   "execution_count": null,
   "id": "804cd709",
   "metadata": {},
   "outputs": [],
   "source": []
  },
  {
   "cell_type": "markdown",
   "id": "a067d3e8",
   "metadata": {},
   "source": [
    "## main script"
   ]
  },
  {
   "cell_type": "code",
   "execution_count": 8,
   "id": "4772fe3c",
   "metadata": {},
   "outputs": [],
   "source": [
    "#Object to interact with the webcam of your computer\n",
    "webcam = cv2.VideoCapture(0)\n",
    "\n",
    "while webcam.isOpened():\n",
    "    \n",
    "    #Read in frames while the webcam is open\n",
    "    ret, frame = webcam.read()\n",
    "    \n",
    "    #Display the frame on the screen\n",
    "    cv2.imshow('Catch The Dot!', frame)\n",
    "    \n",
    "    #Interrupt the webcam stream when users press the 'q' key (quit)\n",
    "    #Explanation: cv2.waitKey returns a 32-Bit Integer Value, while the ord() functions returns an 8-Bit Integer Value\n",
    "    #In order to compare them, we perform a bitwise-and operation with 0xFF which corresponds to the 8-Bit 11111111\n",
    "    if cv2.waitKey(10) & 0xFF == ord('q'):\n",
    "            break\n",
    "\n",
    "webcam.release()\n",
    "cv2.destroyAllWindows()"
   ]
  },
  {
   "cell_type": "code",
   "execution_count": null,
   "id": "28c3e5f3",
   "metadata": {},
   "outputs": [],
   "source": []
  }
 ],
 "metadata": {
  "kernelspec": {
   "display_name": "Python 3 (ipykernel)",
   "language": "python",
   "name": "python3"
  },
  "language_info": {
   "codemirror_mode": {
    "name": "ipython",
    "version": 3
   },
   "file_extension": ".py",
   "mimetype": "text/x-python",
   "name": "python",
   "nbconvert_exporter": "python",
   "pygments_lexer": "ipython3",
   "version": "3.9.16"
  }
 },
 "nbformat": 4,
 "nbformat_minor": 5
}
